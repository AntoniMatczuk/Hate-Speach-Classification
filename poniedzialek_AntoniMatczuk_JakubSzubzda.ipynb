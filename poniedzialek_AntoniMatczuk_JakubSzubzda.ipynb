{
 "cells": [
  {
   "metadata": {
    "ExecuteTime": {
     "end_time": "2025-06-09T19:20:53.414930Z",
     "start_time": "2025-06-09T19:20:53.407572Z"
    }
   },
   "cell_type": "code",
   "source": [
    "import torch\n",
    "import pandas as pd\n",
    "from transformers import AutoTokenizer, AutoModelForSequenceClassification, Trainer, TrainingArguments\n",
    "from datasets import Dataset\n",
    "from bitsandbytes.nn import Linear8bitLt\n",
    "from sklearn.model_selection import train_test_split\n",
    "from peft import LoraConfig, get_peft_model"
   ],
   "id": "fbc121e30a2defb3",
   "outputs": [],
   "execution_count": 12
  },
  {
   "metadata": {},
   "cell_type": "code",
   "source": [
    "# train_df = pd.read_csv('data/hate_train.csv')\n",
    "# with open('data/hate_test_data.txt', 'r', encoding='utf-8') as file:\n",
    "#     test_sentences = file.read().splitlines()\n",
    "#\n",
    "# test_df = pd.DataFrame({'sentence': test_sentences})\n",
    "train_df = pd.read_csv('data/hate_train_cleaned.csv')\n",
    "test_df = pd.read_csv('data/hate_test_cleaned.csv')"
   ],
   "id": "2fc47f629911cf47",
   "execution_count": null,
   "outputs": []
  },
  {
   "metadata": {
    "ExecuteTime": {
     "end_time": "2025-06-09T19:22:07.366609Z",
     "start_time": "2025-06-09T19:22:07.355720Z"
    }
   },
   "cell_type": "code",
   "source": "train_df.head()",
   "id": "25eb59cfc55f6eb6",
   "outputs": [
    {
     "data": {
      "text/plain": [
       "                                            sentence  label\n",
       "0  Dla mnie faworytem do tytułu będzie Cracovia. ...      0\n",
       "1  @anonymized_account @anonymized_account Brawo ...      0\n",
       "2  @anonymized_account @anonymized_account Super,...      0\n",
       "3  @anonymized_account @anonymized_account Musi. ...      0\n",
       "4    Odrzut natychmiastowy, kwaśna mina, mam problem      0"
      ],
      "text/html": [
       "<div>\n",
       "<style scoped>\n",
       "    .dataframe tbody tr th:only-of-type {\n",
       "        vertical-align: middle;\n",
       "    }\n",
       "\n",
       "    .dataframe tbody tr th {\n",
       "        vertical-align: top;\n",
       "    }\n",
       "\n",
       "    .dataframe thead th {\n",
       "        text-align: right;\n",
       "    }\n",
       "</style>\n",
       "<table border=\"1\" class=\"dataframe\">\n",
       "  <thead>\n",
       "    <tr style=\"text-align: right;\">\n",
       "      <th></th>\n",
       "      <th>sentence</th>\n",
       "      <th>label</th>\n",
       "    </tr>\n",
       "  </thead>\n",
       "  <tbody>\n",
       "    <tr>\n",
       "      <th>0</th>\n",
       "      <td>Dla mnie faworytem do tytułu będzie Cracovia. ...</td>\n",
       "      <td>0</td>\n",
       "    </tr>\n",
       "    <tr>\n",
       "      <th>1</th>\n",
       "      <td>@anonymized_account @anonymized_account Brawo ...</td>\n",
       "      <td>0</td>\n",
       "    </tr>\n",
       "    <tr>\n",
       "      <th>2</th>\n",
       "      <td>@anonymized_account @anonymized_account Super,...</td>\n",
       "      <td>0</td>\n",
       "    </tr>\n",
       "    <tr>\n",
       "      <th>3</th>\n",
       "      <td>@anonymized_account @anonymized_account Musi. ...</td>\n",
       "      <td>0</td>\n",
       "    </tr>\n",
       "    <tr>\n",
       "      <th>4</th>\n",
       "      <td>Odrzut natychmiastowy, kwaśna mina, mam problem</td>\n",
       "      <td>0</td>\n",
       "    </tr>\n",
       "  </tbody>\n",
       "</table>\n",
       "</div>"
      ]
     },
     "execution_count": 18,
     "metadata": {},
     "output_type": "execute_result"
    }
   ],
   "execution_count": 18
  },
  {
   "metadata": {
    "ExecuteTime": {
     "end_time": "2025-06-09T19:22:08.760209Z",
     "start_time": "2025-06-09T19:22:08.752983Z"
    }
   },
   "cell_type": "code",
   "source": "test_df.head()",
   "id": "61fda16ce3630bc",
   "outputs": [
    {
     "data": {
      "text/plain": [
       "                                            sentence\n",
       "0  @anonymized_account Spoko, jak im Duda z Moraw...\n",
       "1  @anonymized_account @anonymized_account Ale on...\n",
       "2  @anonymized_account No czy Prezes nie miał rac...\n",
       "3  @anonymized_account @anonymized_account Przeci...\n",
       "4  @anonymized_account @anonymized_account Owszem..."
      ],
      "text/html": [
       "<div>\n",
       "<style scoped>\n",
       "    .dataframe tbody tr th:only-of-type {\n",
       "        vertical-align: middle;\n",
       "    }\n",
       "\n",
       "    .dataframe tbody tr th {\n",
       "        vertical-align: top;\n",
       "    }\n",
       "\n",
       "    .dataframe thead th {\n",
       "        text-align: right;\n",
       "    }\n",
       "</style>\n",
       "<table border=\"1\" class=\"dataframe\">\n",
       "  <thead>\n",
       "    <tr style=\"text-align: right;\">\n",
       "      <th></th>\n",
       "      <th>sentence</th>\n",
       "    </tr>\n",
       "  </thead>\n",
       "  <tbody>\n",
       "    <tr>\n",
       "      <th>0</th>\n",
       "      <td>@anonymized_account Spoko, jak im Duda z Moraw...</td>\n",
       "    </tr>\n",
       "    <tr>\n",
       "      <th>1</th>\n",
       "      <td>@anonymized_account @anonymized_account Ale on...</td>\n",
       "    </tr>\n",
       "    <tr>\n",
       "      <th>2</th>\n",
       "      <td>@anonymized_account No czy Prezes nie miał rac...</td>\n",
       "    </tr>\n",
       "    <tr>\n",
       "      <th>3</th>\n",
       "      <td>@anonymized_account @anonymized_account Przeci...</td>\n",
       "    </tr>\n",
       "    <tr>\n",
       "      <th>4</th>\n",
       "      <td>@anonymized_account @anonymized_account Owszem...</td>\n",
       "    </tr>\n",
       "  </tbody>\n",
       "</table>\n",
       "</div>"
      ]
     },
     "execution_count": 19,
     "metadata": {},
     "output_type": "execute_result"
    }
   ],
   "execution_count": 19
  },
  {
   "metadata": {},
   "cell_type": "code",
   "source": [
    "# train_df_cleaned = train_df.copy()\n",
    "# test_df_cleaned = test_df.copy()\n",
    "\n",
    "def remove_anonymized_account(text):\n",
    "    if isinstance(text, str):\n",
    "        return text.replace('@anonymized_account ', '')\n",
    "    return text\n",
    "\n",
    "# train_df_cleaned['sentence'] = train_df_cleaned['sentence'].apply(remove_anonymized_account)\n",
    "# test_df_cleaned['sentence'] = test_df_cleaned['sentence'].apply(remove_anonymized_account)"
   ],
   "id": "7c23998582a6ce54",
   "execution_count": null,
   "outputs": []
  },
  {
   "metadata": {
    "ExecuteTime": {
     "end_time": "2025-06-09T19:20:53.899614Z",
     "start_time": "2025-06-09T19:20:53.891122Z"
    }
   },
   "cell_type": "code",
   "source": [
    "# train_df_cleaned.to_csv('data/hate_train_cleaned.csv', index=False)\n",
    "# test_df_cleaned.to_csv('data/hate_test_cleaned.csv', index=False)"
   ],
   "id": "94044a4951812c0f",
   "outputs": [],
   "execution_count": 15
  },
  {
   "metadata": {},
   "cell_type": "code",
   "execution_count": null,
   "source": [
    "train_data, val_data = train_test_split(train_df, test_size=0.1, random_state=42, stratify=train_df['label'])\n",
    "\n",
    "train_dataset = Dataset.from_pandas(train_data)\n",
    "val_dataset = Dataset.from_pandas(val_data)\n",
    "test_dataset = Dataset.from_pandas(test_df)"
   ],
   "id": "a9854d488e3cbf5b",
   "outputs": []
  },
  {
   "metadata": {},
   "cell_type": "markdown",
   "source": "Konfiguracja modelu i tokenizera",
   "id": "83d011d4b687e580"
  },
  {
   "metadata": {},
   "cell_type": "code",
   "execution_count": null,
   "source": [
    "model_name = \"szymonrucinski/Curie-7B-v1\"\n",
    "\n",
    "bnb_config = {\n",
    "    \"load_in_8bit\": True,\n",
    "    \"llm_int8_threshold\": 6.0,\n",
    "    \"llm_int8_has_fp16_weight\": False\n",
    "}\n",
    "\n",
    "tokenizer = AutoTokenizer.from_pretrained(model_name)\n",
    "if tokenizer.pad_token is None:\n",
    "    tokenizer.pad_token = tokenizer.eos_token\n",
    "\n",
    "\n",
    "def tokenize_function(examples):\n",
    "    return tokenizer(\n",
    "        examples[\"sentence\"],\n",
    "        padding=\"max_length\",\n",
    "        truncation=True,\n",
    "        max_length=128,\n",
    "        return_tensors=\"pt\"\n",
    "    )\n",
    "\n",
    "train_dataset = train_dataset.map(tokenize_function, batched=True)\n",
    "val_dataset = val_dataset.map(tokenize_function, batched=True)\n",
    "test_dataset = test_dataset.map(tokenize_function, batched=True)"
   ],
   "id": "8293cc69a25dc490",
   "outputs": []
  },
  {
   "metadata": {},
   "cell_type": "markdown",
   "source": "Konfiguracja LoRA dla efektywnego fine-tuningu",
   "id": "9185b71fcc34f24a"
  },
  {
   "metadata": {},
   "cell_type": "code",
   "execution_count": null,
   "source": [
    "peft_config = LoraConfig(\n",
    "    r=16,                     # wymiar adaptacyjny\n",
    "    lora_alpha=32,            # parametr skalujący adaptację\n",
    "    target_modules=[\"query\", \"key\", \"value\", \"dense\"],\n",
    "    lora_dropout=0.05,\n",
    "    bias=\"none\",\n",
    "    task_type=\"SEQ_CLS\"       # zadanie klasyfikacji sekwencji\n",
    ")"
   ],
   "id": "8d1ecdf4bd760752",
   "outputs": []
  },
  {
   "metadata": {},
   "cell_type": "code",
   "execution_count": null,
   "source": [
    "model = AutoModelForSequenceClassification.from_pretrained(\n",
    "    model_name,\n",
    "    num_labels=2,              # binarna klasyfikacja (0: brak mowy nienawiści, 1: mowa nienawiści)\n",
    "    torch_dtype=torch.float16,\n",
    "    device_map=\"auto\",         # automatyczny przydział na GPU/CPU\n",
    "    quantization_config=bnb_config\n",
    ")\n",
    "\n",
    "model = get_peft_model(model, peft_config)"
   ],
   "id": "f26d663b9e06987",
   "outputs": []
  },
  {
   "metadata": {},
   "cell_type": "code",
   "execution_count": null,
   "source": [
    "training_args = TrainingArguments(\n",
    "    output_dir=\"./models/curie-hate-speech\",\n",
    "    evaluation_strategy=\"epoch\",\n",
    "    save_strategy=\"epoch\",\n",
    "    learning_rate=2e-5,\n",
    "    per_device_train_batch_size=4,\n",
    "    per_device_eval_batch_size=4,\n",
    "    gradient_accumulation_steps=2,\n",
    "    num_train_epochs=3,\n",
    "    weight_decay=0.01,\n",
    "    load_best_model_at_end=True,\n",
    "    metric_for_best_model=\"accuracy\",\n",
    "    push_to_hub=False,\n",
    "    fp16=True,                  # korzystanie z mieszanej precyzji dla przyspieszenia treningu\n",
    ")"
   ],
   "id": "ba6cc6cb5672fa18",
   "outputs": []
  },
  {
   "metadata": {},
   "cell_type": "markdown",
   "source": "Definiowanie metryki do ewaluacji",
   "id": "24c60601e13e64cf"
  },
  {
   "metadata": {},
   "cell_type": "code",
   "execution_count": null,
   "source": [
    "def compute_metrics(eval_preds):\n",
    "    import numpy as np\n",
    "    from sklearn.metrics import accuracy_score, precision_recall_fscore_support\n",
    "\n",
    "    logits, labels = eval_preds\n",
    "    predictions = np.argmax(logits, axis=-1)\n",
    "\n",
    "    accuracy = accuracy_score(labels, predictions)\n",
    "    precision, recall, f1, _ = precision_recall_fscore_support(labels, predictions, average='binary')\n",
    "\n",
    "    return {\n",
    "        'accuracy': accuracy,\n",
    "        'precision': precision,\n",
    "        'recall': recall,\n",
    "        'f1': f1,\n",
    "    }"
   ],
   "id": "a90b55999162a739",
   "outputs": []
  },
  {
   "metadata": {},
   "cell_type": "markdown",
   "source": "Inicjalizacja Trainera i rozpoczęcie treningu",
   "id": "acd3ec698266c55f"
  },
  {
   "metadata": {},
   "cell_type": "code",
   "execution_count": null,
   "source": [
    "print(\"Rozpoczynanie treningu...\")\n",
    "trainer = Trainer(\n",
    "    model=model,\n",
    "    args=training_args,\n",
    "    train_dataset=train_dataset,\n",
    "    eval_dataset=val_dataset,\n",
    "    compute_metrics=compute_metrics,\n",
    "    tokenizer=tokenizer,\n",
    ")\n",
    "\n",
    "trainer.train()"
   ],
   "id": "2cfe683bcc41eae1",
   "outputs": []
  },
  {
   "metadata": {},
   "cell_type": "markdown",
   "source": "Zapisanie modelu i ewaluacja danych",
   "id": "e5da6e2c1e27ef3b"
  },
  {
   "metadata": {},
   "cell_type": "code",
   "execution_count": null,
   "source": [
    "model.save_pretrained(\"./models/curie-hate-speech-final\")\n",
    "tokenizer.save_pretrained(\"./models/curie-hate-speech-final\")"
   ],
   "id": "6a0f8bc4139d80cb",
   "outputs": []
  },
  {
   "metadata": {},
   "cell_type": "code",
   "outputs": [],
   "execution_count": null,
   "source": [
    "print(\"Ewaluacja modelu...\")\n",
    "eval_results = trainer.evaluate()\n",
    "print(f\"Wyniki ewaluacji: {eval_results}\")"
   ],
   "id": "ab67b324eced6eaa"
  },
  {
   "metadata": {},
   "cell_type": "code",
   "outputs": [],
   "execution_count": null,
   "source": [
    "raw_predictions = trainer.predict(test_dataset)\n",
    "predictions = raw_predictions.predictions.argmax(axis=1)\n",
    "\n",
    "test_df_with_predictions = test_df.copy()\n",
    "\n",
    "output_path = 'pred.csv'\n",
    "output_df = pd.DataFrame({'prediction': predictions})\n",
    "output_df.to_csv(output_path, index=False, header=False)\n",
    "\n",
    "print(output_df.head(5))\n",
    "\n",
    "hate_speech_count = sum(predictions)\n",
    "hate_speech_percentage = (hate_speech_count / len(predictions)) * 100\n",
    "print(f\"\\nLiczba tekstów sklasyfikowanych jako mowa nienawiści: {hate_speech_count} ({hate_speech_percentage:.2f}%)\")\n"
   ],
   "id": "9d4d7c196fd76ee2"
  }
 ],
 "metadata": {
  "kernelspec": {
   "display_name": "Python 3",
   "language": "python",
   "name": "python3"
  },
  "language_info": {
   "codemirror_mode": {
    "name": "ipython",
    "version": 2
   },
   "file_extension": ".py",
   "mimetype": "text/x-python",
   "name": "python",
   "nbconvert_exporter": "python",
   "pygments_lexer": "ipython2",
   "version": "2.7.6"
  }
 },
 "nbformat": 4,
 "nbformat_minor": 5
}
