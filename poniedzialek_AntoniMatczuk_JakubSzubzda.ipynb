{
 "cells": [
  {
   "cell_type": "code",
   "execution_count": 1,
   "id": "fbc121e30a2defb3",
   "metadata": {
    "ExecuteTime": {
     "end_time": "2025-06-09T19:20:53.414930Z",
     "start_time": "2025-06-09T19:20:53.407572Z"
    }
   },
   "outputs": [
    {
     "name": "stderr",
     "output_type": "stream",
     "text": [
      "c:\\Users\\frane\\AppData\\Local\\Programs\\Python\\Python313\\Lib\\site-packages\\tqdm\\auto.py:21: TqdmWarning: IProgress not found. Please update jupyter and ipywidgets. See https://ipywidgets.readthedocs.io/en/stable/user_install.html\n",
      "  from .autonotebook import tqdm as notebook_tqdm\n"
     ]
    }
   ],
   "source": [
    "import torch\n",
    "import pandas as pd\n",
    "from transformers import AutoTokenizer, AutoModelForSequenceClassification, Trainer, TrainingArguments, BitsAndBytesConfig\n",
    "from datasets import Dataset\n",
    "from bitsandbytes.nn import Linear8bitLt\n",
    "from sklearn.model_selection import train_test_split\n",
    "from peft import LoraConfig, get_peft_model"
   ]
  },
  {
   "cell_type": "code",
   "execution_count": 2,
   "id": "2fc47f629911cf47",
   "metadata": {
    "ExecuteTime": {
     "end_time": "2025-06-09T20:31:22.014998Z",
     "start_time": "2025-06-09T20:31:21.987629Z"
    }
   },
   "outputs": [],
   "source": [
    "# train_df = pd.read_csv('data/hate_train.csv')\n",
    "# with open('data/hate_test_data.txt', 'r', encoding='utf-8') as file:\n",
    "#     test_sentences = file.read().splitlines()\n",
    "#\n",
    "# test_df = pd.DataFrame({'sentence': test_sentences})\n",
    "train_df = pd.read_csv('data/hate_train_cleaned.csv')\n",
    "test_df = pd.read_csv('data/hate_test_cleaned.csv')"
   ]
  },
  {
   "cell_type": "code",
   "execution_count": 3,
   "id": "25eb59cfc55f6eb6",
   "metadata": {
    "ExecuteTime": {
     "end_time": "2025-06-09T20:31:36.336293Z",
     "start_time": "2025-06-09T20:31:36.327529Z"
    }
   },
   "outputs": [
    {
     "data": {
      "text/html": [
       "<div>\n",
       "<style scoped>\n",
       "    .dataframe tbody tr th:only-of-type {\n",
       "        vertical-align: middle;\n",
       "    }\n",
       "\n",
       "    .dataframe tbody tr th {\n",
       "        vertical-align: top;\n",
       "    }\n",
       "\n",
       "    .dataframe thead th {\n",
       "        text-align: right;\n",
       "    }\n",
       "</style>\n",
       "<table border=\"1\" class=\"dataframe\">\n",
       "  <thead>\n",
       "    <tr style=\"text-align: right;\">\n",
       "      <th></th>\n",
       "      <th>sentence</th>\n",
       "      <th>label</th>\n",
       "    </tr>\n",
       "  </thead>\n",
       "  <tbody>\n",
       "    <tr>\n",
       "      <th>0</th>\n",
       "      <td>Dla mnie faworytem do tytułu będzie Cracovia. ...</td>\n",
       "      <td>0</td>\n",
       "    </tr>\n",
       "    <tr>\n",
       "      <th>1</th>\n",
       "      <td>Brawo ty Daria kibic ma być na dobre i złe</td>\n",
       "      <td>0</td>\n",
       "    </tr>\n",
       "    <tr>\n",
       "      <th>2</th>\n",
       "      <td>Super, polski premier składa kwiaty na grobach...</td>\n",
       "      <td>0</td>\n",
       "    </tr>\n",
       "    <tr>\n",
       "      <th>3</th>\n",
       "      <td>Musi. Innej drogi nie mamy.</td>\n",
       "      <td>0</td>\n",
       "    </tr>\n",
       "    <tr>\n",
       "      <th>4</th>\n",
       "      <td>Odrzut natychmiastowy, kwaśna mina, mam problem</td>\n",
       "      <td>0</td>\n",
       "    </tr>\n",
       "  </tbody>\n",
       "</table>\n",
       "</div>"
      ],
      "text/plain": [
       "                                            sentence  label\n",
       "0  Dla mnie faworytem do tytułu będzie Cracovia. ...      0\n",
       "1         Brawo ty Daria kibic ma być na dobre i złe      0\n",
       "2  Super, polski premier składa kwiaty na grobach...      0\n",
       "3                        Musi. Innej drogi nie mamy.      0\n",
       "4    Odrzut natychmiastowy, kwaśna mina, mam problem      0"
      ]
     },
     "execution_count": 3,
     "metadata": {},
     "output_type": "execute_result"
    }
   ],
   "source": [
    "train_df.head()"
   ]
  },
  {
   "cell_type": "code",
   "execution_count": 4,
   "id": "61fda16ce3630bc",
   "metadata": {
    "ExecuteTime": {
     "end_time": "2025-06-09T20:31:38.630656Z",
     "start_time": "2025-06-09T20:31:38.623911Z"
    }
   },
   "outputs": [
    {
     "data": {
      "text/html": [
       "<div>\n",
       "<style scoped>\n",
       "    .dataframe tbody tr th:only-of-type {\n",
       "        vertical-align: middle;\n",
       "    }\n",
       "\n",
       "    .dataframe tbody tr th {\n",
       "        vertical-align: top;\n",
       "    }\n",
       "\n",
       "    .dataframe thead th {\n",
       "        text-align: right;\n",
       "    }\n",
       "</style>\n",
       "<table border=\"1\" class=\"dataframe\">\n",
       "  <thead>\n",
       "    <tr style=\"text-align: right;\">\n",
       "      <th></th>\n",
       "      <th>sentence</th>\n",
       "    </tr>\n",
       "  </thead>\n",
       "  <tbody>\n",
       "    <tr>\n",
       "      <th>0</th>\n",
       "      <td>Spoko, jak im Duda z Morawieckim zamówią po pi...</td>\n",
       "    </tr>\n",
       "    <tr>\n",
       "      <th>1</th>\n",
       "      <td>Ale on tu nie miał szans jej zagrania, a ta 'p...</td>\n",
       "    </tr>\n",
       "    <tr>\n",
       "      <th>2</th>\n",
       "      <td>No czy Prezes nie miał racji, mówiąc,ze to są ...</td>\n",
       "    </tr>\n",
       "    <tr>\n",
       "      <th>3</th>\n",
       "      <td>Przecież to nawet nie jest przewrotka 😂</td>\n",
       "    </tr>\n",
       "    <tr>\n",
       "      <th>4</th>\n",
       "      <td>Owszem podatki tak. Ale nie w takich okoliczno...</td>\n",
       "    </tr>\n",
       "  </tbody>\n",
       "</table>\n",
       "</div>"
      ],
      "text/plain": [
       "                                            sentence\n",
       "0  Spoko, jak im Duda z Morawieckim zamówią po pi...\n",
       "1  Ale on tu nie miał szans jej zagrania, a ta 'p...\n",
       "2  No czy Prezes nie miał racji, mówiąc,ze to są ...\n",
       "3            Przecież to nawet nie jest przewrotka 😂\n",
       "4  Owszem podatki tak. Ale nie w takich okoliczno..."
      ]
     },
     "execution_count": 4,
     "metadata": {},
     "output_type": "execute_result"
    }
   ],
   "source": [
    "test_df.head()"
   ]
  },
  {
   "cell_type": "code",
   "execution_count": 5,
   "id": "43866a4063719ec6",
   "metadata": {},
   "outputs": [],
   "source": [
    "# train_df_cleaned = train_df.copy()\n",
    "# test_df_cleaned = test_df.copy()\n",
    "\n",
    "def remove_anonymized_account(text):\n",
    "    if isinstance(text, str):\n",
    "        return text.replace('@anonymized_account ', '')\n",
    "    return text"
   ]
  },
  {
   "cell_type": "code",
   "execution_count": 6,
   "id": "cfde1b008e5dfb8f",
   "metadata": {},
   "outputs": [
    {
     "name": "stdout",
     "output_type": "stream",
     "text": [
      "Liczba próbek po usunięciu retweetów: 9387\n"
     ]
    }
   ],
   "source": [
    "train_df = train_df[~train_df['sentence'].str.startswith('RT ', na=False)]\n",
    "print(f\"Liczba próbek po usunięciu retweetów: {len(train_df)}\")"
   ]
  },
  {
   "cell_type": "code",
   "execution_count": 7,
   "id": "e89295100926dfb0",
   "metadata": {},
   "outputs": [],
   "source": [
    "# train_df_cleaned['sentence'] = train_df_cleaned['sentence'].apply(remove_anonymized_account)\n",
    "# test_df_cleaned['sentence'] = test_df_cleaned['sentence'].apply(remove_anonymized_account)"
   ]
  },
  {
   "cell_type": "code",
   "execution_count": 8,
   "id": "94044a4951812c0f",
   "metadata": {
    "ExecuteTime": {
     "end_time": "2025-06-09T19:20:53.899614Z",
     "start_time": "2025-06-09T19:20:53.891122Z"
    }
   },
   "outputs": [],
   "source": [
    "# train_df_cleaned.to_csv('data/hate_train_cleaned.csv', index=False)\n",
    "# test_df_cleaned.to_csv('data/hate_test_cleaned.csv', index=False)"
   ]
  },
  {
   "cell_type": "code",
   "execution_count": 9,
   "id": "a9854d488e3cbf5b",
   "metadata": {},
   "outputs": [],
   "source": [
    "train_data, val_data = train_test_split(train_df, test_size=0.1, random_state=42, stratify=train_df['label'])\n",
    "\n",
    "train_dataset = Dataset.from_pandas(train_data)\n",
    "val_dataset = Dataset.from_pandas(val_data)\n",
    "test_dataset = Dataset.from_pandas(test_df)"
   ]
  },
  {
   "cell_type": "markdown",
   "id": "83d011d4b687e580",
   "metadata": {},
   "source": [
    "Konfiguracja modelu i tokenizera"
   ]
  },
  {
   "cell_type": "code",
   "execution_count": 10,
   "id": "8293cc69a25dc490",
   "metadata": {},
   "outputs": [
    {
     "name": "stderr",
     "output_type": "stream",
     "text": [
      "Map: 100%|██████████| 8448/8448 [00:00<00:00, 23501.35 examples/s]\n",
      "Map: 100%|██████████| 8448/8448 [00:00<00:00, 23501.35 examples/s]\n",
      "Map: 100%|██████████| 939/939 [00:00<00:00, 22665.78 examples/s]\n",
      "Map: 100%|██████████| 939/939 [00:00<00:00, 22665.78 examples/s]\n",
      "Map: 100%|██████████| 1000/1000 [00:00<00:00, 23152.48 examples/s]\n",
      "Map: 100%|██████████| 1000/1000 [00:00<00:00, 23152.48 examples/s]\n"
     ]
    }
   ],
   "source": [
    "model_name = \"szymonrucinski/Curie-7B-v1\"\n",
    "\n",
    "bnb_config = BitsAndBytesConfig(\n",
    "    load_in_4bit=True,\n",
    "    bnb_4bit_use_double_quant=True,\n",
    "    bnb_4bit_quant_type=\"nf4\",\n",
    "    bnb_4bit_compute_dtype=torch.bfloat16\n",
    ")\n",
    "\n",
    "tokenizer = AutoTokenizer.from_pretrained(model_name)\n",
    "if tokenizer.pad_token is None:\n",
    "    tokenizer.pad_token = tokenizer.eos_token\n",
    "\n",
    "\n",
    "def tokenize_function(examples):\n",
    "    return tokenizer(\n",
    "        examples[\"sentence\"],\n",
    "        padding=\"max_length\",\n",
    "        truncation=True,\n",
    "        max_length=128,\n",
    "        return_tensors=\"pt\"\n",
    "    )\n",
    "\n",
    "train_dataset = train_dataset.map(tokenize_function, batched=True)\n",
    "val_dataset = val_dataset.map(tokenize_function, batched=True)\n",
    "test_dataset = test_dataset.map(tokenize_function, batched=True)"
   ]
  },
  {
   "cell_type": "markdown",
   "id": "9185b71fcc34f24a",
   "metadata": {},
   "source": [
    "Konfiguracja LoRA dla efektywnego fine-tuningu"
   ]
  },
  {
   "cell_type": "code",
   "execution_count": 11,
   "id": "8d1ecdf4bd760752",
   "metadata": {},
   "outputs": [],
   "source": [
    "peft_config = LoraConfig(\n",
    "    r=32,\n",
    "    lora_alpha=16,\n",
    "    target_modules=[\"q_proj\", \"k_proj\", \"v_proj\", \"o_proj\"],\n",
    "    lora_dropout=0.05,\n",
    "    bias=\"none\",\n",
    "    task_type=\"SEQ_CLS\"\n",
    ")"
   ]
  },
  {
   "cell_type": "code",
   "execution_count": 12,
   "id": "f26d663b9e06987",
   "metadata": {},
   "outputs": [
    {
     "name": "stderr",
     "output_type": "stream",
     "text": [
      "Loading checkpoint shards: 100%|██████████| 3/3 [00:20<00:00,  6.69s/it]\n",
      "Some weights of MistralForSequenceClassification were not initialized from the model checkpoint at szymonrucinski/Curie-7B-v1 and are newly initialized: ['score.weight']\n",
      "You should probably TRAIN this model on a down-stream task to be able to use it for predictions and inference.\n",
      "Loading checkpoint shards: 100%|██████████| 3/3 [00:20<00:00,  6.69s/it]\n",
      "Some weights of MistralForSequenceClassification were not initialized from the model checkpoint at szymonrucinski/Curie-7B-v1 and are newly initialized: ['score.weight']\n",
      "You should probably TRAIN this model on a down-stream task to be able to use it for predictions and inference.\n"
     ]
    }
   ],
   "source": [
    "model_path = \"szymonrucinski/Curie-7B-v1\"\n",
    "\n",
    "model = AutoModelForSequenceClassification.from_pretrained(\n",
    "    model_path,\n",
    "    num_labels=2,\n",
    "    torch_dtype=torch.bfloat16,\n",
    "    device_map=\"auto\",\n",
    "    quantization_config=bnb_config\n",
    ")\n",
    "\n",
    "model.config.pad_token_id = tokenizer.pad_token_id\n",
    "model = get_peft_model(model, peft_config)"
   ]
  },
  {
   "cell_type": "code",
   "execution_count": null,
   "id": "ba6cc6cb5672fa18",
   "metadata": {},
   "outputs": [],
   "source": [
    "training_args = TrainingArguments(\n",
    "    output_dir=\"./models/curie-hate-speech-experimental\",\n",
    "    eval_strategy=\"epoch\",\n",
    "    save_strategy=\"epoch\",\n",
    "    learning_rate=2e-5,\n",
    "    per_device_train_batch_size=4,\n",
    "    per_device_eval_batch_size=4,\n",
    "    gradient_accumulation_steps=2,\n",
    "    num_train_epochs=2,\n",
    "    weight_decay=0.015,\n",
    "    load_best_model_at_end=True,\n",
    "    metric_for_best_model=\"f1\",\n",
    "    greater_is_better=True,\n",
    "    push_to_hub=False,\n",
    "    bf16=True,\n",
    ")"
   ]
  },
  {
   "cell_type": "markdown",
   "id": "24c60601e13e64cf",
   "metadata": {},
   "source": [
    "Definiowanie metryki do ewaluacji"
   ]
  },
  {
   "cell_type": "code",
   "execution_count": 14,
   "id": "a90b55999162a739",
   "metadata": {},
   "outputs": [],
   "source": [
    "def compute_metrics(eval_preds):\n",
    "    import numpy as np\n",
    "    from sklearn.metrics import accuracy_score, precision_recall_fscore_support\n",
    "\n",
    "    logits, labels = eval_preds\n",
    "    predictions = np.argmax(logits, axis=-1)\n",
    "\n",
    "    accuracy = accuracy_score(labels, predictions)\n",
    "    precision, recall, f1, _ = precision_recall_fscore_support(labels, predictions, average='binary', zero_division=0)\n",
    "    \n",
    "    positive_mask = labels == 1\n",
    "    positive_predictions = predictions[positive_mask]\n",
    "    positive_labels = labels[positive_mask]\n",
    "    positive_accuracy = accuracy_score(positive_labels, positive_predictions) if len(positive_labels) > 0 else 0.0\n",
    "    \n",
    "    negative_mask = labels == 0\n",
    "    negative_predictions = predictions[negative_mask]\n",
    "    negative_labels = labels[negative_mask]\n",
    "    negative_accuracy = accuracy_score(negative_labels, negative_predictions) if len(negative_labels) > 0 else 0.0\n",
    "    \n",
    "    precision_weight = 0.7\n",
    "    recall_weight = 0.2\n",
    "    f1_weight = 0.1\n",
    "    weighted_score = (precision * precision_weight + recall * recall_weight + f1 * f1_weight)\n",
    "\n",
    "    return {\n",
    "        'accuracy': accuracy,\n",
    "        'precision': precision,\n",
    "        'recall': recall,\n",
    "        'f1': f1,\n",
    "        'weighted_precision_score': weighted_score,\n",
    "        'positive_accuracy': positive_accuracy,\n",
    "        'negative_accuracy': negative_accuracy,\n",
    "    }"
   ]
  },
  {
   "cell_type": "markdown",
   "id": "acd3ec698266c55f",
   "metadata": {},
   "source": [
    "Inicjalizowanie Trainera i rozpoczęcie treningu"
   ]
  },
  {
   "cell_type": "code",
   "execution_count": 15,
   "id": "2cfe683bcc41eae1",
   "metadata": {},
   "outputs": [
    {
     "name": "stderr",
     "output_type": "stream",
     "text": [
      "No label_names provided for model class `PeftModelForSequenceClassification`. Since `PeftModel` hides base models input arguments, if label_names is not given, label_names can't be set automatically within `Trainer`. Note that empty label_names list will be used instead.\n"
     ]
    },
    {
     "name": "stdout",
     "output_type": "stream",
     "text": [
      "Rozpoczynanie treningu...\n"
     ]
    },
    {
     "data": {
      "text/html": [
       "\n",
       "    <div>\n",
       "      \n",
       "      <progress value='3168' max='3168' style='width:300px; height:20px; vertical-align: middle;'></progress>\n",
       "      [3168/3168 3:13:39, Epoch 3/3]\n",
       "    </div>\n",
       "    <table border=\"1\" class=\"dataframe\">\n",
       "  <thead>\n",
       " <tr style=\"text-align: left;\">\n",
       "      <th>Epoch</th>\n",
       "      <th>Training Loss</th>\n",
       "      <th>Validation Loss</th>\n",
       "      <th>Accuracy</th>\n",
       "      <th>Precision</th>\n",
       "      <th>Recall</th>\n",
       "      <th>F1</th>\n",
       "      <th>Weighted Precision Score</th>\n",
       "      <th>Positive Accuracy</th>\n",
       "      <th>Negative Accuracy</th>\n",
       "    </tr>\n",
       "  </thead>\n",
       "  <tbody>\n",
       "    <tr>\n",
       "      <td>1</td>\n",
       "      <td>0.309800</td>\n",
       "      <td>0.405809</td>\n",
       "      <td>0.920128</td>\n",
       "      <td>0.571429</td>\n",
       "      <td>0.052632</td>\n",
       "      <td>0.096386</td>\n",
       "      <td>0.420165</td>\n",
       "      <td>0.052632</td>\n",
       "      <td>0.996524</td>\n",
       "    </tr>\n",
       "    <tr>\n",
       "      <td>2</td>\n",
       "      <td>0.246400</td>\n",
       "      <td>0.328377</td>\n",
       "      <td>0.915868</td>\n",
       "      <td>0.473684</td>\n",
       "      <td>0.355263</td>\n",
       "      <td>0.406015</td>\n",
       "      <td>0.443233</td>\n",
       "      <td>0.355263</td>\n",
       "      <td>0.965238</td>\n",
       "    </tr>\n",
       "    <tr>\n",
       "      <td>3</td>\n",
       "      <td>0.150600</td>\n",
       "      <td>0.394333</td>\n",
       "      <td>0.915868</td>\n",
       "      <td>0.466667</td>\n",
       "      <td>0.276316</td>\n",
       "      <td>0.347107</td>\n",
       "      <td>0.416641</td>\n",
       "      <td>0.276316</td>\n",
       "      <td>0.972190</td>\n",
       "    </tr>\n",
       "  </tbody>\n",
       "</table><p>"
      ],
      "text/plain": [
       "<IPython.core.display.HTML object>"
      ]
     },
     "metadata": {},
     "output_type": "display_data"
    },
    {
     "data": {
      "text/plain": [
       "TrainOutput(global_step=3168, training_loss=0.2738236628397547, metrics={'train_runtime': 11623.2104, 'train_samples_per_second': 2.18, 'train_steps_per_second': 0.273, 'total_flos': 1.3638301348213555e+17, 'train_loss': 0.2738236628397547, 'epoch': 3.0})"
      ]
     },
     "execution_count": 15,
     "metadata": {},
     "output_type": "execute_result"
    }
   ],
   "source": [
    "print(\"Rozpoczynanie treningu...\")\n",
    "trainer = Trainer(\n",
    "    model=model,\n",
    "    args=training_args,\n",
    "    train_dataset=train_dataset,\n",
    "    eval_dataset=val_dataset,\n",
    "    compute_metrics=compute_metrics,\n",
    "    processing_class=tokenizer,\n",
    ")\n",
    "\n",
    "trainer.train()#resume_from_checkpoint=\"./models/curie-hate-speech/checkpoint-2112\")"
   ]
  },
  {
   "cell_type": "markdown",
   "id": "e5da6e2c1e27ef3b",
   "metadata": {},
   "source": [
    "Zapisanie modelu i ewaluacja danych"
   ]
  },
  {
   "cell_type": "code",
   "execution_count": 16,
   "id": "6a0f8bc4139d80cb",
   "metadata": {},
   "outputs": [
    {
     "data": {
      "text/plain": [
       "('./models/curie-hate-speech-final\\\\tokenizer_config.json',\n",
       " './models/curie-hate-speech-final\\\\special_tokens_map.json',\n",
       " './models/curie-hate-speech-final\\\\tokenizer.json')"
      ]
     },
     "execution_count": 16,
     "metadata": {},
     "output_type": "execute_result"
    }
   ],
   "source": [
    "model.save_pretrained(\"./models/curie-hate-speech-final\")\n",
    "tokenizer.save_pretrained(\"./models/curie-hate-speech-final\")"
   ]
  },
  {
   "cell_type": "code",
   "execution_count": 17,
   "id": "ab67b324eced6eaa",
   "metadata": {},
   "outputs": [
    {
     "name": "stdout",
     "output_type": "stream",
     "text": [
      "Ewaluacja modelu...\n"
     ]
    },
    {
     "data": {
      "text/html": [],
      "text/plain": [
       "<IPython.core.display.HTML object>"
      ]
     },
     "metadata": {},
     "output_type": "display_data"
    },
    {
     "name": "stdout",
     "output_type": "stream",
     "text": [
      "Wyniki ewaluacji: {'eval_loss': 0.3283769488334656, 'eval_accuracy': 0.9158679446219382, 'eval_precision': 0.47368421052631576, 'eval_recall': 0.35526315789473684, 'eval_f1': 0.40601503759398494, 'eval_weighted_precision_score': 0.44323308270676687, 'eval_positive_accuracy': 0.35526315789473684, 'eval_negative_accuracy': 0.9652375434530707, 'eval_runtime': 74.2988, 'eval_samples_per_second': 12.638, 'eval_steps_per_second': 3.163, 'epoch': 3.0}\n"
     ]
    }
   ],
   "source": [
    "print(\"Ewaluacja modelu...\")\n",
    "eval_results = trainer.evaluate()\n",
    "print(f\"Wyniki ewaluacji: {eval_results}\")"
   ]
  },
  {
   "cell_type": "code",
   "execution_count": 18,
   "id": "9d4d7c196fd76ee2",
   "metadata": {},
   "outputs": [
    {
     "name": "stdout",
     "output_type": "stream",
     "text": [
      "   prediction\n",
      "0           0\n",
      "1           0\n",
      "2           0\n",
      "3           0\n",
      "4           0\n",
      "\n",
      "Liczba tekstów sklasyfikowanych jako mowa nienawiści: 68 (6.80%)\n"
     ]
    }
   ],
   "source": [
    "raw_predictions = trainer.predict(test_dataset)\n",
    "predictions = raw_predictions.predictions.argmax(axis=1)\n",
    "\n",
    "test_df_with_predictions = test_df.copy()\n",
    "\n",
    "output_path = 'pred.csv'\n",
    "output_df = pd.DataFrame({'prediction': predictions})\n",
    "output_df.to_csv(output_path, index=False, header=False)\n",
    "\n",
    "print(output_df.head(5))\n",
    "\n",
    "hate_speech_count = sum(predictions)\n",
    "hate_speech_percentage = (hate_speech_count / len(predictions)) * 100\n",
    "print(f\"\\nLiczba tekstów sklasyfikowanych jako mowa nienawiści: {hate_speech_count} ({hate_speech_percentage:.2f}%)\")\n"
   ]
  }
 ],
 "metadata": {
  "kernelspec": {
   "display_name": "Python 3",
   "language": "python",
   "name": "python3"
  },
  "language_info": {
   "codemirror_mode": {
    "name": "ipython",
    "version": 3
   },
   "file_extension": ".py",
   "mimetype": "text/x-python",
   "name": "python",
   "nbconvert_exporter": "python",
   "pygments_lexer": "ipython3",
   "version": "3.13.3"
  }
 },
 "nbformat": 4,
 "nbformat_minor": 5
}
